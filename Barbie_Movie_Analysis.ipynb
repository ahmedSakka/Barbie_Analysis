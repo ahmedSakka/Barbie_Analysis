{
 "cells": [
  {
   "cell_type": "code",
   "execution_count": 2,
   "metadata": {},
   "outputs": [],
   "source": [
    "# Importing important libraries\n",
    "import pandas as pd\n",
    "import requests\n",
    "from bs4 import BeautifulSoup\n",
    "import numpy as np"
   ]
  },
  {
   "cell_type": "code",
   "execution_count": 3,
   "metadata": {},
   "outputs": [],
   "source": [
    "# Getting the whole content of the url\n",
    "box_office_url = 'https://www.boxofficemojo.com/releasegroup/gr629756421/'\n",
    "box_office_response = requests.get(box_office_url)\n",
    "box_office_soup = BeautifulSoup(box_office_response.content, 'html.parser')"
   ]
  },
  {
   "cell_type": "code",
   "execution_count": 4,
   "metadata": {},
   "outputs": [],
   "source": [
    "# Defining our lists\n",
    "country = []\n",
    "opening = []\n",
    "gross = []"
   ]
  },
  {
   "cell_type": "code",
   "execution_count": 5,
   "metadata": {},
   "outputs": [
    {
     "data": {
      "text/plain": [
       "[<table class=\"a-bordered a-horizontal-stripes mojo-table releases-by-region\"><tr><th class=\"a-size-medium a-text-left\" colspan=\"4\">Domestic</th></tr><tr><th class=\"a-span5\">Market</th><th class=\"a-span2\">Release Date</th><th class=\"a-span2 a-text-right\">Opening</th><th class=\"a-span3 a-text-right\">Gross</th></tr><tr><td class=\"a-align-center\"><a class=\"a-link-normal\" href=\"/release/rl1077904129/?ref_=bo_gr_rls\">Domestic</a></td><td class=\"a-align-center\">Jul 21, 2023</td><td class=\"a-text-right a-align-center\"><span class=\"money\">$162,022,044</span></td><td class=\"a-text-right a-align-center\"><span class=\"money\">$614,576,857</span></td></tr></table>,\n",
       " <table class=\"a-bordered a-horizontal-stripes mojo-table releases-by-region\"><tr><th class=\"a-size-medium a-text-left\" colspan=\"4\">Europe, Middle East, and Africa</th></tr><tr><th class=\"a-span5\">Market</th><th class=\"a-span2\">Release Date</th><th class=\"a-span2 a-text-right\">Opening</th><th class=\"a-span3 a-text-right\">Gross</th></tr><tr><td class=\"a-align-center\"><a class=\"a-link-normal\" href=\"/release/rl1705214721/?ref_=bo_gr_rls\">Bulgaria</a></td><td class=\"a-align-center\">Jul 21, 2023</td><td class=\"a-text-right a-align-center\"><span class=\"money\">$257,216</span></td><td class=\"a-text-right a-align-center\"><span class=\"money\">$1,241,652</span></td></tr><tr><td class=\"a-align-center\"><a class=\"a-link-normal\" href=\"/release/rl228623105/?ref_=bo_gr_rls\">Croatia</a></td><td class=\"a-align-center\">Jul 20, 2023</td><td class=\"a-text-right a-align-center\"><span class=\"money\">$434,788</span></td><td class=\"a-text-right a-align-center\"><span class=\"money\">$1,434,712</span></td></tr><tr><td class=\"a-align-center\"><a class=\"a-link-normal\" href=\"/release/rl1973650177/?ref_=bo_gr_rls\">Czech Republic</a></td><td class=\"a-align-center\">Jul 20, 2023</td><td class=\"a-text-right a-align-center\"><span class=\"money\">$874,969</span></td><td class=\"a-text-right a-align-center\"><span class=\"money\">$5,562,027</span></td></tr><tr><td class=\"a-align-center\"><a class=\"a-link-normal\" href=\"/release/rl2040759041/?ref_=bo_gr_rls\">France</a></td><td class=\"a-align-center\">Jul 19, 2023</td><td class=\"a-text-right a-align-center\"><span class=\"money\">$9,961,544</span></td><td class=\"a-text-right a-align-center\"><span class=\"money\">$42,622,221</span></td></tr><tr><td class=\"a-align-center\"><a class=\"a-link-normal\" href=\"/release/rl60850945/?ref_=bo_gr_rls\">Germany</a></td><td class=\"a-align-center\">Jul 20, 2023</td><td class=\"a-text-right a-align-center\"><span class=\"money\">$6,712,904</span></td><td class=\"a-text-right a-align-center\"><span class=\"money\">$53,505,245</span></td></tr><tr><td class=\"a-align-center\"><a class=\"a-link-normal\" href=\"/release/rl1889764097/?ref_=bo_gr_rls\">Hungary</a></td><td class=\"a-align-center\">Jul 20, 2023</td><td class=\"a-text-right a-align-center\"><span class=\"money\">$661,089</span></td><td class=\"a-text-right a-align-center\"><span class=\"money\">$3,590,661</span></td></tr><tr><td class=\"a-align-center\"><a class=\"a-link-normal\" href=\"/release/rl1554023169/?ref_=bo_gr_rls\">Iceland</a></td><td class=\"a-align-center\">Jul 21, 2023</td><td class=\"a-text-right a-align-center\"><span class=\"money\">$163,415</span></td><td class=\"a-text-right a-align-center\"><span class=\"money\">$967,079</span></td></tr><tr><td class=\"a-align-center\"><a class=\"a-link-normal\" href=\"/release/rl1755349761/?ref_=bo_gr_rls\">Italy</a></td><td class=\"a-align-center\">Jul 20, 2023</td><td class=\"a-text-right a-align-center\"><span class=\"money\">$8,585,116</span></td><td class=\"a-text-right a-align-center\"><span class=\"money\">$33,524,806</span></td></tr><tr><td class=\"a-align-center\"><a class=\"a-link-normal\" href=\"/release/rl1587774209/?ref_=bo_gr_rls\">Lithuania</a></td><td class=\"a-align-center\">Jul 21, 2023</td><td class=\"a-text-right a-align-center\"><span class=\"money\">$242,034</span></td><td class=\"a-text-right a-align-center\"><span class=\"money\">$1,200,380</span></td></tr><tr><td class=\"a-align-center\"><a class=\"a-link-normal\" href=\"/release/rl3634397953/?ref_=bo_gr_rls\">Netherlands</a></td><td class=\"a-align-center\">Jul 20, 2023</td><td class=\"a-text-right a-align-center\"><span class=\"money\">$2,611,923</span></td><td class=\"a-text-right a-align-center\"><span class=\"money\">$19,761,236</span></td></tr><tr><td class=\"a-align-center\"><a class=\"a-link-normal\" href=\"/release/rl1537245953/?ref_=bo_gr_rls\">Norway</a></td><td class=\"a-align-center\">Jul 21, 2023</td><td class=\"a-text-right a-align-center\"><span class=\"money\">$1,475,447</span></td><td class=\"a-text-right a-align-center\"><span class=\"money\">$8,353,509</span></td></tr><tr><td class=\"a-align-center\"><a class=\"a-link-normal\" href=\"/release/rl1050903297/?ref_=bo_gr_rls\">Poland</a></td><td class=\"a-align-center\">Jul 21, 2023</td><td class=\"a-text-right a-align-center\"><span class=\"money\">$2,434,900</span></td><td class=\"a-text-right a-align-center\"><span class=\"money\">$13,702,233</span></td></tr><tr><td class=\"a-align-center\"><a class=\"a-link-normal\" href=\"/release/rl4171268865/?ref_=bo_gr_rls\">Portugal</a></td><td class=\"a-align-center\">Jul 20, 2023</td><td class=\"a-text-right a-align-center\"><span class=\"money\">$1,272,343</span></td><td class=\"a-text-right a-align-center\"><span class=\"money\">$5,408,634</span></td></tr><tr><td class=\"a-align-center\"><a class=\"a-link-normal\" href=\"/release/rl1688437505/?ref_=bo_gr_rls\">Romania</a></td><td class=\"a-align-center\">Jul 21, 2023</td><td class=\"a-text-right a-align-center\"><span class=\"money\">$666,491</span></td><td class=\"a-text-right a-align-center\"><span class=\"money\">$2,918,523</span></td></tr><tr><td class=\"a-align-center\"><a class=\"a-link-normal\" href=\"/release/rl1554219777/?ref_=bo_gr_rls\">Serbia and Montenegro</a></td><td class=\"a-align-center\">Jul 20, 2023</td><td class=\"a-text-right a-align-center\"><span class=\"money\">$389,246</span></td><td class=\"a-text-right a-align-center\"><span class=\"money\">$1,086,478</span></td></tr><tr><td class=\"a-align-center\"><a class=\"a-link-normal\" href=\"/release/rl1990427393/?ref_=bo_gr_rls\">Slovakia</a></td><td class=\"a-align-center\">Jul 20, 2023</td><td class=\"a-text-right a-align-center\"><span class=\"money\">$391,381</span></td><td class=\"a-text-right a-align-center\"><span class=\"money\">$1,712,300</span></td></tr><tr><td class=\"a-align-center\"><a class=\"a-link-normal\" href=\"/release/rl1570800385/?ref_=bo_gr_rls\">Slovenia</a></td><td class=\"a-align-center\">Jul 20, 2023</td><td class=\"a-text-right a-align-center\"><span class=\"money\">$140,957</span></td><td class=\"a-text-right a-align-center\"><span class=\"money\">$832,344</span></td></tr><tr><td class=\"a-align-center\"><a class=\"a-link-normal\" href=\"/release/rl1587577601/?ref_=bo_gr_rls\">South Africa</a></td><td class=\"a-align-center\">Jul 21, 2023</td><td class=\"a-text-right a-align-center\"><span class=\"money\">$665,013</span></td><td class=\"a-text-right a-align-center\"><span class=\"money\">$2,557,341</span></td></tr><tr><td class=\"a-align-center\"><a class=\"a-link-normal\" href=\"/release/rl295928577/?ref_=bo_gr_rls\">Spain</a></td><td class=\"a-align-center\">Jul 21, 2023</td><td class=\"a-text-right a-align-center\"><span class=\"money\">$5,730,304</span></td><td class=\"a-text-right a-align-center\"><span class=\"money\">$34,599,183</span></td></tr><tr><td class=\"a-align-center\"><a class=\"a-link-normal\" href=\"/release/rl1822655233/?ref_=bo_gr_rls\">Türkiye</a></td><td class=\"a-align-center\">Jul 21, 2023</td><td class=\"a-text-right a-align-center\"><span class=\"money\">$1,548,338</span></td><td class=\"a-text-right a-align-center\"><span class=\"money\">$5,166,414</span></td></tr><tr><td class=\"a-align-center\"><a class=\"a-link-normal\" href=\"/release/rl2158461697/?ref_=bo_gr_rls\">Ukraine</a></td><td class=\"a-align-center\">Jul 20, 2023</td><td class=\"a-text-right a-align-center\">\n",
       "         –\n",
       "     </td><td class=\"a-text-right a-align-center\"><span class=\"money\">$2,995,441</span></td></tr><tr><td class=\"a-align-center\"><a class=\"a-link-normal\" href=\"/release/rl1940357889/?ref_=bo_gr_rls\">United Arab Emirates</a></td><td class=\"a-align-center\">Aug 10, 2023</td><td class=\"a-text-right a-align-center\"><span class=\"money\">$1,945,501</span></td><td class=\"a-text-right a-align-center\"><span class=\"money\">$3,965,330</span></td></tr><tr><td class=\"a-align-center\"><a class=\"a-link-normal\" href=\"/release/rl295731969/?ref_=bo_gr_rls\">United Kingdom</a></td><td class=\"a-align-center\">Jul 21, 2023</td><td class=\"a-text-right a-align-center\"><span class=\"money\">$23,790,791</span></td><td class=\"a-text-right a-align-center\"><span class=\"money\">$116,542,914</span></td></tr></table>,\n",
       " <table class=\"a-bordered a-horizontal-stripes mojo-table releases-by-region\"><tr><th class=\"a-size-medium a-text-left\" colspan=\"4\">Latin America</th></tr><tr><th class=\"a-span5\">Market</th><th class=\"a-span2\">Release Date</th><th class=\"a-span2 a-text-right\">Opening</th><th class=\"a-span3 a-text-right\">Gross</th></tr><tr><td class=\"a-align-center\"><a class=\"a-link-normal\" href=\"/release/rl195068673/?ref_=bo_gr_rls\">Argentina</a></td><td class=\"a-align-center\">Jul 20, 2023</td><td class=\"a-text-right a-align-center\"><span class=\"money\">$4,600,000</span></td><td class=\"a-text-right a-align-center\"><span class=\"money\">$15,300,000</span></td></tr><tr><td class=\"a-align-center\"><a class=\"a-link-normal\" href=\"/release/rl161514241/?ref_=bo_gr_rls\">Brazil</a></td><td class=\"a-align-center\">Jul 20, 2023</td><td class=\"a-text-right a-align-center\"><span class=\"money\">$17,600,000</span></td><td class=\"a-text-right a-align-center\"><span class=\"money\">$43,600,000</span></td></tr><tr><td class=\"a-align-center\"><a class=\"a-link-normal\" href=\"/release/rl111182593/?ref_=bo_gr_rls\">Colombia</a></td><td class=\"a-align-center\">Jul 20, 2023</td><td class=\"a-text-right a-align-center\"><span class=\"money\">$4,442,404</span></td><td class=\"a-text-right a-align-center\"><span class=\"money\">$9,654,219</span></td></tr><tr><td class=\"a-align-center\"><a class=\"a-link-normal\" href=\"/release/rl3550511873/?ref_=bo_gr_rls\">Mexico</a></td><td class=\"a-align-center\">Jul 21, 2023</td><td class=\"a-text-right a-align-center\"><span class=\"money\">$22,691,954</span></td><td class=\"a-text-right a-align-center\"><span class=\"money\">$54,282,404</span></td></tr><tr><td class=\"a-align-center\"><a class=\"a-link-normal\" href=\"/release/rl211845889/?ref_=bo_gr_rls\">Peru</a></td><td class=\"a-align-center\">Jul 20, 2023</td><td class=\"a-text-right a-align-center\"><span class=\"money\">$3,700,000</span></td><td class=\"a-text-right a-align-center\"><span class=\"money\">$3,700,000</span></td></tr></table>,\n",
       " <table class=\"a-bordered a-horizontal-stripes mojo-table releases-by-region\"><tr><th class=\"a-size-medium a-text-left\" colspan=\"4\">Asia Pacific</th></tr><tr><th class=\"a-span5\">Market</th><th class=\"a-span2\">Release Date</th><th class=\"a-span2 a-text-right\">Opening</th><th class=\"a-span3 a-text-right\">Gross</th></tr><tr><td class=\"a-align-center\"><a class=\"a-link-normal\" href=\"/release/rl178291457/?ref_=bo_gr_rls\">Australia</a></td><td class=\"a-align-center\">Jul 20, 2023</td><td class=\"a-text-right a-align-center\"><span class=\"money\">$14,600,000</span></td><td class=\"a-text-right a-align-center\"><span class=\"money\">$54,700,000</span></td></tr><tr><td class=\"a-align-center\"><a class=\"a-link-normal\" href=\"/release/rl94405377/?ref_=bo_gr_rls\">Hong Kong</a></td><td class=\"a-align-center\">Jul 20, 2023</td><td class=\"a-text-right a-align-center\"><span class=\"money\">$934,864</span></td><td class=\"a-text-right a-align-center\"><span class=\"money\">$5,145,361</span></td></tr><tr><td class=\"a-align-center\"><a class=\"a-link-normal\" href=\"/release/rl2359722753/?ref_=bo_gr_rls\">Japan</a></td><td class=\"a-align-center\">Aug 11, 2023</td><td class=\"a-text-right a-align-center\">\n",
       "         –\n",
       "     </td><td class=\"a-text-right a-align-center\"><span class=\"money\">$3,883,578</span></td></tr><tr><td class=\"a-align-center\"><a class=\"a-link-normal\" href=\"/release/rl2342552321/?ref_=bo_gr_rls\">New Zealand</a></td><td class=\"a-align-center\">Jul 20, 2023</td><td class=\"a-text-right a-align-center\"><span class=\"money\">$2,166,125</span></td><td class=\"a-text-right a-align-center\"><span class=\"money\">$8,157,547</span></td></tr><tr><td class=\"a-align-center\"><a class=\"a-link-normal\" href=\"/release/rl698581761/?ref_=bo_gr_rls\">South Korea</a></td><td class=\"a-align-center\">Jul 19, 2023</td><td class=\"a-text-right a-align-center\"><span class=\"money\">$1,196,975</span></td><td class=\"a-text-right a-align-center\"><span class=\"money\">$4,271,846</span></td></tr></table>,\n",
       " <table class=\"a-bordered a-horizontal-stripes mojo-table releases-by-region\"><tr><th class=\"a-size-medium a-text-left\" colspan=\"4\">China</th></tr><tr><th class=\"a-span5\">Market</th><th class=\"a-span2\">Release Date</th><th class=\"a-span2 a-text-right\">Opening</th><th class=\"a-span3 a-text-right\">Gross</th></tr><tr><td class=\"a-align-center\"><a class=\"a-link-normal\" href=\"/release/rl312509185/?ref_=bo_gr_rls\">China</a></td><td class=\"a-align-center\">Jul 21, 2023</td><td class=\"a-text-right a-align-center\"><span class=\"money\">$8,100,000</span></td><td class=\"a-text-right a-align-center\"><span class=\"money\">$35,100,000</span></td></tr></table>]"
      ]
     },
     "execution_count": 5,
     "metadata": {},
     "output_type": "execute_result"
    }
   ],
   "source": [
    "# Extracting the needed data from the link\n",
    "box_office_data = box_office_soup.findAll('table', attrs= {'class' : 'a-bordered a-horizontal-stripes mojo-table releases-by-region'})\n",
    "box_office_data"
   ]
  },
  {
   "cell_type": "code",
   "execution_count": 6,
   "metadata": {},
   "outputs": [],
   "source": [
    "# Iterating through the extracted data and storing it into the lists\n",
    "for table in box_office_data:\n",
    "    rows = table.find_all('tr')\n",
    "    for row in rows:\n",
    "        # Checking if there is a 'td' element in the current row\n",
    "        td_element = row.find_all('td')\n",
    "        # Ensuring there are three columns (country, opening, gross)\n",
    "        if len(td_element) == 4:\n",
    "            country_name = td_element[0].find('a').text.strip()\n",
    "            opening_value = td_element[2].text.strip()\n",
    "            gross_value = td_element[3].text.strip()\n",
    "                \n",
    "            country.append(country_name)\n",
    "            opening.append(opening_value)\n",
    "            gross.append(gross_value)"
   ]
  },
  {
   "cell_type": "code",
   "execution_count": 9,
   "metadata": {},
   "outputs": [
    {
     "name": "stdout",
     "output_type": "stream",
     "text": [
      "35\n",
      "35\n",
      "35\n"
     ]
    }
   ],
   "source": [
    "print(np.count_nonzero(country))\n",
    "print(np.count_nonzero(opening))\n",
    "print(np.count_nonzero(gross))"
   ]
  }
 ],
 "metadata": {
  "kernelspec": {
   "display_name": "base",
   "language": "python",
   "name": "python3"
  },
  "language_info": {
   "codemirror_mode": {
    "name": "ipython",
    "version": 3
   },
   "file_extension": ".py",
   "mimetype": "text/x-python",
   "name": "python",
   "nbconvert_exporter": "python",
   "pygments_lexer": "ipython3",
   "version": "3.10.9"
  },
  "orig_nbformat": 4
 },
 "nbformat": 4,
 "nbformat_minor": 2
}
