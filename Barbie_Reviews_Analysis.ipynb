{
 "cells": [
  {
   "cell_type": "code",
   "execution_count": 1,
   "metadata": {},
   "outputs": [],
   "source": [
    "# Importing important libraries\n",
    "\n",
    "import requests\n",
    "from bs4 import BeautifulSoup\n",
    "import pandas as pd"
   ]
  },
  {
   "cell_type": "code",
   "execution_count": 25,
   "metadata": {},
   "outputs": [
    {
     "name": "stdout",
     "output_type": "stream",
     "text": [
      "<Response [200]>\n"
     ]
    }
   ],
   "source": [
    "# Getting the whole content of the website (Letterboxd Barbie reviews)\n",
    "\n",
    "url = 'https://letterboxd.com/film/barbie/reviews/'\n",
    "\n",
    "# Iterating through each page of the website\n",
    "for page_number in range(1, 257):\n",
    "    letterboxd_url = f'{url}?page={page_number}'\n",
    "\n",
    "    letterboxd_response = requests.get(letterboxd_url)\n",
    "    letterboxd_soup = BeautifulSoup(letterboxd_response.content, 'html.parser')\n",
    "print(letterboxd_response)"
   ]
  },
  {
   "cell_type": "code",
   "execution_count": 21,
   "metadata": {},
   "outputs": [],
   "source": [
    "# Defining our lists\n",
    "\n",
    "review = []\n",
    "rating = []"
   ]
  },
  {
   "cell_type": "code",
   "execution_count": 26,
   "metadata": {},
   "outputs": [
    {
     "name": "stdout",
     "output_type": "stream",
     "text": [
      "12\n",
      "0\n"
     ]
    }
   ],
   "source": [
    "# Extracting the needed data and appending it to variables\n",
    "\n",
    "user_review = letterboxd_soup.find_all('div', class_ = 'body-text -prose collapsible-text')\n",
    "user_rating = letterboxd_soup.find_all('span', class_ = 'rating-other-user-rating')\n",
    "\n",
    "print(len(user_review))\n",
    "print(len(user_rating))\n"
   ]
  },
  {
   "cell_type": "code",
   "execution_count": 15,
   "metadata": {},
   "outputs": [
    {
     "name": "stdout",
     "output_type": "stream",
     "text": [
      "3\n",
      "[<span class=\"rating -green rated-10\"> ★★★★★ </span>, <span class=\"rating -green rated-10\"> ★★★★★ </span>, <span class=\"rating -green rated-10\"> ★★★★★ </span>]\n"
     ]
    }
   ],
   "source": [
    "user_rating = letterboxd_soup.find_all('span', class_ = 'rating -green rated-10')\n",
    "print(len(user_rating))\n",
    "print(user_rating)"
   ]
  },
  {
   "cell_type": "code",
   "execution_count": 6,
   "metadata": {},
   "outputs": [
    {
     "ename": "IndexError",
     "evalue": "list index out of range",
     "output_type": "error",
     "traceback": [
      "\u001b[1;31m---------------------------------------------------------------------------\u001b[0m",
      "\u001b[1;31mIndexError\u001b[0m                                Traceback (most recent call last)",
      "\u001b[1;32mahmedSakka\\Barbie_Analysis\\Barbie_Reviews_Analysis.ipynb Cell 6\u001b[0m line \u001b[0;36m3\n\u001b[0;32m      <a href='vscode-notebook-cell://github/ahmedSakka/Barbie_Analysis/Barbie_Reviews_Analysis.ipynb#W5sdnNjb2RlLXZmcw%3D%3D?line=0'>1</a>\u001b[0m \u001b[39m# Print the first few user reviews and ratings\u001b[39;00m\n\u001b[0;32m      <a href='vscode-notebook-cell://github/ahmedSakka/Barbie_Analysis/Barbie_Reviews_Analysis.ipynb#W5sdnNjb2RlLXZmcw%3D%3D?line=1'>2</a>\u001b[0m \u001b[39mfor\u001b[39;00m i \u001b[39min\u001b[39;00m \u001b[39mrange\u001b[39m(\u001b[39m100\u001b[39m):  \u001b[39m# Print the first 5 elements for review and rating\u001b[39;00m\n\u001b[1;32m----> <a href='vscode-notebook-cell://github/ahmedSakka/Barbie_Analysis/Barbie_Reviews_Analysis.ipynb#W5sdnNjb2RlLXZmcw%3D%3D?line=2'>3</a>\u001b[0m     \u001b[39mprint\u001b[39m(\u001b[39mf\u001b[39m\u001b[39m\"\u001b[39m\u001b[39mUser Review \u001b[39m\u001b[39m{\u001b[39;00mi \u001b[39m+\u001b[39m \u001b[39m1\u001b[39m\u001b[39m}\u001b[39;00m\u001b[39m: \u001b[39m\u001b[39m{\u001b[39;00muser_review[i]\u001b[39m.\u001b[39mtext\u001b[39m.\u001b[39mstrip()\u001b[39m}\u001b[39;00m\u001b[39m\"\u001b[39m)\n\u001b[0;32m      <a href='vscode-notebook-cell://github/ahmedSakka/Barbie_Analysis/Barbie_Reviews_Analysis.ipynb#W5sdnNjb2RlLXZmcw%3D%3D?line=3'>4</a>\u001b[0m     \u001b[39mprint\u001b[39m(\u001b[39mf\u001b[39m\u001b[39m\"\u001b[39m\u001b[39mUser Rating \u001b[39m\u001b[39m{\u001b[39;00mi \u001b[39m+\u001b[39m \u001b[39m1\u001b[39m\u001b[39m}\u001b[39;00m\u001b[39m: \u001b[39m\u001b[39m{\u001b[39;00muser_rating[i]\u001b[39m.\u001b[39mtext\u001b[39m.\u001b[39mstrip()\u001b[39m}\u001b[39;00m\u001b[39m\"\u001b[39m)\n\u001b[0;32m      <a href='vscode-notebook-cell://github/ahmedSakka/Barbie_Analysis/Barbie_Reviews_Analysis.ipynb#W5sdnNjb2RlLXZmcw%3D%3D?line=4'>5</a>\u001b[0m     \u001b[39mprint\u001b[39m(\u001b[39m\"\u001b[39m\u001b[39m\\n\u001b[39;00m\u001b[39m\"\u001b[39m)\n",
      "\u001b[1;31mIndexError\u001b[0m: list index out of range"
     ]
    }
   ],
   "source": [
    "# Print the first few user reviews and ratings\n",
    "for i in range(100):  # Print the first 5 elements for review and rating\n",
    "    print(f\"User Review {i + 1}: {user_review[i].text.strip()}\")\n",
    "    print(f\"User Rating {i + 1}: {user_rating[i].text.strip()}\")\n",
    "    print(\"\\n\")  # Add a separator\n"
   ]
  }
 ],
 "metadata": {
  "kernelspec": {
   "display_name": "base",
   "language": "python",
   "name": "python3"
  },
  "language_info": {
   "codemirror_mode": {
    "name": "ipython",
    "version": 3
   },
   "file_extension": ".py",
   "mimetype": "text/x-python",
   "name": "python",
   "nbconvert_exporter": "python",
   "pygments_lexer": "ipython3",
   "version": "3.10.9"
  },
  "orig_nbformat": 4
 },
 "nbformat": 4,
 "nbformat_minor": 2
}
