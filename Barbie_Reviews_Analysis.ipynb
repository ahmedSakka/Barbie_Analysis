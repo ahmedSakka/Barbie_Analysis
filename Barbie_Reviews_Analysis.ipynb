{
 "cells": [
  {
   "cell_type": "code",
   "execution_count": 3,
   "metadata": {},
   "outputs": [],
   "source": [
    "# Importing important libraries\n",
    "\n",
    "import requests\n",
    "from bs4 import BeautifulSoup\n",
    "import pandas as pd"
   ]
  },
  {
   "cell_type": "code",
   "execution_count": 38,
   "metadata": {},
   "outputs": [
    {
     "name": "stdout",
     "output_type": "stream",
     "text": [
      "<Response [404]>\n"
     ]
    }
   ],
   "source": [
    "# Getting the whole content of the website (IMDB Barbie reviews)\n",
    "\n",
    "url = 'https://letterboxd.com/film/barbie/reviews/by/activity/'\n",
    "\n",
    "# Iterating through each page of the website\n",
    "for page_number in range(1, 5):\n",
    "    letterboxd_url = f'{url}&start={25 * (page_number - 1)}'\n",
    "\n",
    "    letterboxd_response = requests.get(letterboxd_url)\n",
    "    letterboxd_soup = BeautifulSoup(letterboxd_response.content, 'html.parser')\n",
    "print(letterboxd_response)"
   ]
  },
  {
   "cell_type": "code",
   "execution_count": 34,
   "metadata": {},
   "outputs": [
    {
     "data": {
      "text/plain": [
       "<Response [404]>"
      ]
     },
     "execution_count": 34,
     "metadata": {},
     "output_type": "execute_result"
    }
   ],
   "source": [
    "letterboxd_response"
   ]
  },
  {
   "cell_type": "code",
   "execution_count": 26,
   "metadata": {},
   "outputs": [],
   "source": [
    "# Defining our lists\n",
    "\n",
    "review = []\n",
    "rating = []"
   ]
  },
  {
   "cell_type": "code",
   "execution_count": 30,
   "metadata": {},
   "outputs": [
    {
     "name": "stdout",
     "output_type": "stream",
     "text": [
      "25\n",
      "24\n"
     ]
    }
   ],
   "source": [
    "# Extracting the needed data and appending it to variables\n",
    "\n",
    "user_review = letterboxd_soup.find_all('div', class_ = 'text show-more__control')\n",
    "user_rating = letterboxd_soup.find_all('span', class_ = 'rating-other-user-rating')\n",
    "\n",
    "print(len(user_review))\n",
    "print(len(user_rating))\n"
   ]
  },
  {
   "cell_type": "code",
   "execution_count": 31,
   "metadata": {},
   "outputs": [
    {
     "name": "stdout",
     "output_type": "stream",
     "text": [
      "User Review 1: Margot does the best with what she's given, but this film was very disappointing to me. It was marketed as a fun, quirky satire with homages to other movies. It started that way, but ended with over-dramatized speeches and an ending that clearly tried to make the audience feel something, but left everyone just feeling confused. And before you say I'm a crotchety old man, I'm a woman in my 20s, so I'm pretty sure I'm this movie's target audience. The saddest part is there were parents with their kids in the theater that were victims of the poor marketing, because this is not a kid's movie. Overall, the humor was fun on occasion and the film is beautiful to look at, but the whole concept falls apart in the second half of the film and becomes a pity party for the \"strong\" woman.\n",
      "User Rating 1: 6/10\n",
      "\n",
      "\n",
      "User Review 2: The first reason to go see it:It's good fun. It's fairytale comedy, over the top, pastiche and it works! It simply does! Margot Robie and Ryan Gosling have great chemistry. Everybody sorta agrees on that.Kids are probably not the target audience, although if they would watch it, they wouldnt be shocked or something, they would merely be missing the social and gender issues and jokes of many scenes.The second reason to go see it:It really looks the part. I am not into sets or costumes in particular (at all), but I was impressed with the fun world they had created. It really looks fabulous and I really appreciate it when a movie is eyecandy from start till finish.The third and best reason to go see it:I am a dude and I honestly feared the worst when going along with my wife. But I honestly did not expect this sugarcoated, fairytale Barbieworld to touch my heart in the end, but it did! What the what!They somehow created a finale, that gave me goosebumps and a terrific feel good vibe. You cant wish for more than that. As a dude watching a Barbie picture. Hello!The only reason AGAINST seeing it:If you are a dude and dont like men being portrayed as weak and emotionally inferior to women, then better not go see it, because all the men are (hilarious) loosers and whiners in this movie, with a brilliant performance by Ryan Gosling as an insecure crybaby, who just cant get Barbie to love him.Feared the worst, but in the end I was pleasantly suprised. It's certainly not a brilliant movie, but it is a perfect summer escape movie, with lots of jokes and a wonderful feel good vibe!\n",
      "User Rating 2: 7/10\n",
      "\n",
      "\n",
      "User Review 3: Before making Barbie (2023), Greta Gerwig single-handedly directed two films: Lady Bird (2017) and Little Women (2019). Both were about girls on the precipice of adolescence, both had nuanced and layered portrayals of mother-daughter relationships, both combined imaginative visuals with clever dialogue. Both were very, very good. Given those credentials, one may expect Barbie to be as intelligent, convincing and amusing a picture - and, well, it isn't.The fantasy comedy begins in Barbie Land, a place where Barbie (played by Margot Robbie) is having the best day every day, in the company of other Barbies and, occasionally, Kens. The designs, costumes, and cinematography do an excellent job re-creating the Mattel vision in its pink plastic perfection. The introduction is referential but not overtly reliant on what is external to the film; it is smartly self-aware and presents a world where Barbie can be anything - a President, a Physicist, a Journalist, a Lawyer, or a Mermaid. Much like with the original toys, Ken (Ryan Gosling) comes as an afterthought and 'only exists within the warmth of Barbie's gaze'.The plot is set in motion when Barbie begins having thoughts about death and, normally suspended in the state of standing on the balls of her feet, she feels her heels hit the ground. What follows is The Wizard of Oz (1939) journey in reverse (the parallel is explicit) and, ultimately, a Pinocchio storyline of the doll in the Real World.If Barbie was fully dedicated to that conceit - as promised by the trailer - it could be an interesting exploration in the way of The Truman Show (1998) or Stranger Than Fiction (2006). Instead, the film chooses to introduce a handful of conflicts, threats, and plot-lines that are never fully realised. What is the nature of the connection between a Barbie and the girl who plays with the doll in the Real World? What would happen if Barbie were put back in the box? Why is Gloria (America Ferrera), the receptionist at the Mattel headquarters and, later, Barbie's Real-World companion, depressed - and how is that eventually resolved? Why is Gloria's daughter Sasha (Ariana Greenblatt) cross with her mother? Why does the board of Mattel spend one third of the film hiding in the bushes? Most importantly, the crux of the third-act conflict - set in Barbie Land now renamed 'Kendom' - contradicts what had been previously established about that world and its inhabitants.Towards the finale, the production evolves into explicit commentary on gender roles. One side is presented as clueless and attention-seeking, while the other is manipulative and vengeful. The film repeatedly takes offence with 'mansplaining', yet behaves in a blithely patronising manner towards the viewer. Much of what is declared is not supported by what has been shown, and the picture relies on the presumed prior experience of the audience, rather than on storytelling. While the denouement includes one of the film's highlights, the musical number 'I'm Just Ken', the ending does not resolve (or acknowledge) much, and the final scene is reductive to the point of being offensive.Barbie is very easy on the eye, and the acting ranges from competent to inspired, with praiseworthy performances by the leading actors. Margot Robbie is pitch-perfect as Barbie, and Ryan Gosling shines as her counterpart, often stealing the show. Situational comedy and slapstick mostly land, while some of the bon mots are funny, yet hardly plausible when spoken by the characters.If only this were better written. If only the joyride in the pink convertible did not leave you with blond hair in your mouth.\n",
      "User Rating 3: 6/10\n",
      "\n",
      "\n",
      "User Review 4: As much as it pains me to give a movie called \"Barbie\" a 10 out of 10, I have to do so. It is so brilliantly handled and finely crafted, I have to give the filmakers credit. Yes, I am somewhat conservative person and former law enforcement officer. I'm a guy. I like guy things. Hell I even enjoyed the Battleship movie a few years ago (an absolutely ridiculous but fun romp of an action film). But I also like to experience other perspectives. And man oh man does this movie deliver that in spades - pretty much encapsulated everything my wife has tried to convey about her entire career and life experience wrapped up into two hours! The humor, the sets, the acting, and the ability to weave the current narrative into the story was just perfect. I don't agree with some of the points of the movie, but again, that's ok. This movie wasn't designed to give a balanced perspective of men versus women; it is a no-holds-barred unapologetic crazy ride of a rant about the real issues that women have faced since they were \"allowed\" to have \"real jobs\" and do the same things as men. Give me a well done film that is a blast to watch, that makes you think, and that was done from a place of creativity, passion, and attention to detail, and I'll call it what it is: a 10 out of 10 masterpiece.\n",
      "User Rating 4: 10/10\n",
      "\n",
      "\n",
      "User Review 5: As a woman that grew up with Barbie, I was very excited for this movie. I was curious to see how they would evolve the \"stereotypical Barbie\" into something more. But the messaging in this movie was so heavy handed that it completely lost the plot. I consider myself a proponent of gender equality, and this ain't the way to get it.Barbieland flips the script on the patriarchy of the real world, giving women the power and leaving the Kens as attractive accessories. Once Ken gets a glimpse of the real world he brings the patriarchy to Barbieland and the Barbies are \"brainwashed\" (this happens suddenly and without much explanation). The Kens are bumbling fools with zero understanding of governance, and Barbieland falls into disarray.The movie's solution to this is for the Barbies to give a lot of Ted talks on the patriarchy, fool the Kens into war with each other, and rule once again. But isn't the point if gender equality... equality?The feminist messaging could have been so much more effective if it was laid on so THICK. More humor and nuance please. The story gets lost, the real world characters don't add much, and not much changes in the end.What was enjoyable was the acting, the sets and of course the nostalgia.\n",
      "User Rating 5: 6/10\n",
      "\n",
      "\n",
      "User Review 6: It pains me to say it, but I enjoyed this movie so much more then I was expecting to, musical numbers, humour, there truly is something for the whole family yo enjoy.Bright, garish and somewhat kitsch, those were my expectations, and sure it's a veritable cornucopia of glitter and rainbows, but what I wasn't expecting, was for the film to be so engaging, there's actually some real depth that I wasn't expecting. That opening introduction, that came as a major surprise, and pretty much set the tone.Of course there are plenty of double entendres, laughs that adults will enjoy, kids will no doubt chuckle away too.I'm pretty sure this film is going to win awards for its production, it's very well made, creative design and visuals, a lot of thought has gone into this. Greta Gerwig did a great job.Margot Robbie is glorious as Barbie, Ryan Gosling was great I thought. The pair shared some terrific scenes, real chemistry, and plenty of cutting one liners.Great use of music, everything fitted into the film so well.8/10.\n",
      "User Rating 6: 8/10\n",
      "\n",
      "\n",
      "User Review 7: I don't know if I put spoilers in here. I am super worn out. Haha So I will just put that I did.I had no clue what this movie was like or about. It just seemed like a strange, different type of movie. To me, it was going to be some kind of movie for kids that tells you everything is perfect. It was nothing like that.There were a couple of young teen girls on the right of my mom and me. I felt weird knowing that. There is no way I would bring a kid or teen to see this.The movie is really all focused on political and gender views. So that one totally surprised me.There are points in which I kind of rolled my eyes. A bit of the singing kind of went on. There were also times that I was all teary.There are sexual references in this. Young kids would not understand. But one part in which she tells of a specific thing that she does not have, and a specific thing Ken does not have, that was a bit strange.The end threw me off. Here is a movie that seems to be saying we are equal, but we are not treated that way. Yet, at the same time it seems to be making men out to be mindless idiots. Also, something one of the male characters asks at the end and the reply the woman gives, seems to lead one to believe that things will be the exact same as they were. But unlike the way things seem to be, in Barbie land, the women will be above all men. I didn't really get that. Then, what may be the last lines of the movie, place Barbie somewhere. I didn't get the point of it.I heard adults laughing repeatedly. The kids that were their kind of sat silent.This is one of those movies that I cannot see every watching again. But it was fun and unique seeing it in the theater. Also, I dug the set design all the other stuff in the Barbie world. It was just cool to see.\n",
      "User Rating 7: 6/10\n",
      "\n",
      "\n",
      "User Review 8: Wow, this movie was a love letter to cinema. From the Kubrick reference at the opening, to the soundstage being 100% real - no cgi for the sets. There were dance sequences like in the olden days (think Grease) and the costuming , wow the costuming. Greta Gerwig dug deep to make this masterpiece using all of her technical chops along the way. The casting director also nailed it, everyone was wonderful.The acting was perfection, I loved seeing the variety of Barbie's on screen and there were so many jokes that would be appropriate for all audiences, this has to be a voluntary PG13 rating as there wasn't swearing or nudity. There was one beach fight amongst the Kens but that's not really violence compared to today's average films, no one was harmed nor any fake blood used.I actually didn't like the ending at all, and I was quite annoyed that Rhea Perlman played the creator of Barbie but made two quips about the IRS getting her for tax evasion - something Ruth Handler never dealt with. Her problem was with the SEC after she had signed off on a positive Mattel earnings forecast when they knew they were in a down quarter - how's that so tough to explain?Irregardless, I want to see this movie again. And again. And again.\n",
      "User Rating 8: 9/10\n",
      "\n",
      "\n",
      "User Review 9: Greta Gerwig and Noah Baumbach have a knack for incorporating the many little observations of life, whether funny or deeply interpersonal, into a screenplay. Gerwig manages to direct them with great visuals and clever transitions.Unfortunately, the only major weakness of the film, in my opinion, also lies in the screenplay. When dealing with larger societal issues, it lacks depth and possibly understanding. The observations work, but the contextualization falls short. The approach feels crude and superficial. This creates a confusing overall impression, as the finely crafted small observations remain convincing. A film that is so intelligent, funny, and creative on an individual level suddenly seems foolish in the grand scheme of things.Key moments in the film, such as the encounter with the inventor, fail to evoke emotions and come across as insincere. The angry rant about the struggles of being a woman feels cheap. There seems to be a lack of sensitivity, as if someone wanted to vent without making any effort to package it intelligently.Any scenes that trigger a sense of injustice and express societal criticism in small moments no longer feel precise and may even intentionally appear exaggerated, rather than being convincing parts of a larger whole.Overall, I'm not entirely sure what to make of the film. On one hand, I had a great time, but on the other hand, I left the screening with mixed feelings.Making it even more confusing are the consistently brilliant acting performances across the board, with Ryan Gosling obviously standing out.\n",
      "User Rating 9: 6/10\n",
      "\n",
      "\n",
      "User Review 10: I went to see this today, everyone in my group dressed in pink and ready to at least be entertained by pastel-colored camp for two hours. BARBIE kind of succeeds there: I loved the costuming and sets of Barbieland, and Margot Robie is such a fantastic actress, the perfect embodiment of the optimistic, she-can-do-it-all Barbie. Ryan Gosling was a scene-stealer with his horse obsession and faux mink coat.Despite all this, the movie as a whole was disappointing. As much as it succeeds at campy comedy and musical numbers, its attempts at feminist commentary and existentialism fall flat. The messaging is so on the nose, spelled right out for the audience so no one will have to strain their brain. Not that these scenes can't be funny or hit home (the guitar gag gave me college flashbacks), but a little subtlety could not have hurt.I also had issues with the differences between Barbieland and the real world. I can accept everyone in Barbieland talking in what many term \"Marvel speak.\" If you've watched anything made in the past 15 years you'll recognize it right away: \"You know, we make all these pop culture references (like Spiderman in the MCU with ALIENS) and we say what we think in the bluntest way possible because it's so awkward that it's funny... oooor it WAS when it was novel and new years ago. Now it's staler than a can of Pepsi Clear. Oh yeah-- I remember the 90s! Macarena!\"The Barbies and Kens are supposed to be simplistic figures with no sense of emotional nuance. However, the humans in the real world are supposed to be the opposite-- messy, complicated, not that charming. Why are they also talking like that? It just feels lazy.And then there are the existential themes: Margot Robie's Barbie gets tired of being an ideal of independent womanhood in an eternal paradise. At the end, she chooses to be human and embrace mortality because mortality is ultimately what gives our lives meaning. A decent theme. Too bad the movie never really delves into it. It's given lip service, nothing more.It had some cute moments but honestly, the end experience was meh. The hype was more memorable than the finished product.\n",
      "User Rating 10: 4/10\n",
      "\n",
      "\n",
      "User Review 11: I thought this would be so much different. The ending made me feel sad and empty. Ken and Barbie don't end up together and they made Ken seem like a complete idiot. Actually they presented men as being dumb throughout the whole movie. And I'm not a man but that's just not true. It was depressing and sad and never the way Barbie was created for. I know a lot of people won't agree with me and that's okay but it was just pointless going to see it. The only good thing is that the Barbie aesthetic was beautifully done.I just do not like the way they presented men, it's almost like they want women to turn against men. Which in that case the point of the movie is very degrading for many people.\n",
      "User Rating 11: 8/10\n",
      "\n",
      "\n",
      "User Review 12: This is a movie that was way overhyped. Everyone kept saying it was so amazing, but when I finally go to watch it, it was not at all what I thought it was going to be. The storyline was not good. It was a basic and corny storyline, in my opinion.I didn't care for how they portrayed Ken. Ryan Gosling is an amazing actor, but he is not a good representation of Ken when it comes to how he looks and how the actual Ken doll looks. The way he acted as Ken was not that good either, but he didn't get much help from the writers for the way they wrote his part. The movie had so much potential, but was definitely a let down. One positive is that it had some funny parts, but it could of been written much better and could of had a much better storyline!!\n",
      "User Rating 12: 6/10\n",
      "\n",
      "\n",
      "User Review 13: My 15-year old daughter wrote the following review and posted it to my IMDB account.As a Barbie fan I was very excited for this movie. I was expecting a light-hearted goofy comedy. Instead I got a movie that felt as though it didn't know where it was going or what it was doing.The movie starts of as a fun goofy comedy, then things start changing.Things start going wrong for Barbie and she has to go to the real world to fix it. She is supposed to help the person who has been playing with her to fix her problems in Barbie Land. This on its own would've been enough for a movie, but it keeps going.Instead of going in depth about the life of the mother who has caused these problems for Barbie, the movie goes off in a totally different direction.Ken sees the real world's patriarchy and goes back to Barbie Land to replicate it. Barbie has to go back to Barbie Land to save it from its new patriarchy.By the end of the movie Barbie decides to live in the real world. The Kens of the Barbie Land are basically back to as little power they had before their uprising. I find the treatment of the Kens at the end to be hypocritical compared with the movie's supposed messaging about equalityThis movies writing and plot were bad. Even as a feminist I acknowledge that the messaging was terribly preachy. I feel as though many of these different plot ideas could've been good on their own. They are just too confusing all together.On a good note the acting and sets in this movie were really good. I loved seeing the plastic Barbie houses life-sized. The movie was also very funny at parts. I just wish the movie picked a clearer direction.\n",
      "User Rating 13: 5/10\n",
      "\n",
      "\n",
      "User Review 14: To say that I was disappointed is an understatement. The movie starts fine which is more or less what was advertised in the trailers where the setting was Barbie. That was kind of fun. The problem is that the second part is just a mess in pace, it tries tooooo hard to be funny. The main message of the movie would have been great if it had been delivered properly. It was nowhere close to be succint. All Pixar movies do a better job at making their point. And for me, the worst of all, is that it tried to be controversial so hard that it became stale and dull after some minutes since everything centered around the same topic.Movies should try to unite not divide. At least create some discussion rather than being a one-way discussion where the writer basically tells everything.Parents: Not recommended to bring kids, it is not for them. It can be dull and the jokes are not aimed at that audience.Despite all of these problems, it deserves points for the first 30 mins of the movie, and the aesthetic.\n",
      "User Rating 14: 8/10\n",
      "\n",
      "\n",
      "User Review 15: 8.5/10\n",
      "While i'm not so sure at first, the movie kept getting even more fun, entertaining, and definitely better, also surprisingly deal with a legit serious stuff, Barbie is a weirdly fun movie that fills with this very interesting concept, definitely the first time that's ever done, Greta Gerwig has created this whole new style of filmmaking specifically for Barbie, from the intentionally weird yet creative editing, some awkward and cringe scene, i found the comedy so funny instead of cringe, Barbie is one of the most original movie of the year and also one of the most original movie i've seen in a while, we all know Margot Robbie and Ryan Gosling is gonna carry the movie and they are, but Will Ferrell, Simu Liu, and the whole rest of the cast were also great and entertaining, the soundtrack was just great, except Nicki Minaj and Ice Spice \"Barbie World\" song that are just absolutely terrible, but Billie Eilish \"What Was I Made For?\" tune that kept haunting in the background until it finally get the perfect scene to played it was really the best thing because that song was just beautiful and emotional, anyway, Barbie is a lot of fun, while there is still some noticeable flawed, most of them i found it funny, entertaining, colourful, creative, and fun, pure fun, it's something that i probably will love it even more the second time i see it, but as of right now, Barbie was a good time, definitely recommended and with this movie somehow it's actually possible to have a live-action Barbie movie, all you need to have is a good writer, good director, and good cast, and they delivers mostly.\n",
      "User Rating 15: 6/10\n",
      "\n",
      "\n",
      "User Review 16: The quality, the humor, and the writing of the movie is fun for a while. It's quirky and it's unique. When they get into the weeds and try to explore deeper themes, the movie is a miss. The middle expositional phase of the movie, I must say, is a bore.The movie was so close to being great, but it was incapable of delivering a message without having a character literally give a speech worth of dialogue.What could have been a great satire and what began as a cleverly funny movie turned into a preachy and moralizing movie in the end. But I guess the charm of the first half of the movie made up for the shortcomings.\n",
      "User Rating 16: 8/10\n",
      "\n",
      "\n",
      "User Review 17: I was honestly doubting this movie at first, but surprisingly I find myself really liking it quite a lot.Set in the colorful Barbie Land, stereotypical Barbie lives a perfect life every single day. One day, she shows signs of being...a human. She decides to go to the Real World to find the cure in order to make herself perfect again.Barbie is a fun movie that has surprisingly plenty of heartwarming moments and good messages to offer. The set designs are eye-catching and on point as well. Both Margot Robbie and Ryan Gosling nailed their parts, but it is Gosling who mostly shines.Something I'm pretty sure of is this movie getting nominated for the Oscars, most likely for Best Production Design, Best Costume Design, and probably Best Song for Billie Eilish. That song is beautiful and it's stuck in my head right now.\n",
      "User Rating 17: 6/10\n",
      "\n",
      "\n",
      "User Review 18: The film's universe and settings are fantastic. The casting is really good too, with Gosling excelling in the role of Ken.Regrettably, however, the film completely misses the chance to appeal to people who grew up with Barbie. Instead, we're left with a film that almost divides and pits men against women, in an attempt to make it a feminist and political film.Instead of seeing a light, fun film, I saw a rather heavy-handed movie whose storyline is centered around patriarchy.It's a real shame, because the film's potential is pretty amazing. I came away disappointed, but not totally disgusted either.\n",
      "User Rating 18: 10/10\n",
      "\n",
      "\n",
      "User Review 19: For a film like \"Barbie\" to succeed, every aspect had to come together perfectly. It needed to consummately balance satire with fun, the casting had to be spot-on, and the writing/directing required to pull off such a feat would need to be exquisite. Somewhat remarkably, that is exactly what writer/director Greta Gerwig pulls off here to create the best movie of summer 2023.For a very basic overview, \"Barbie\" sees its titular character (played by Margot Robbie) living her stereotypically perfect life in Barbieland. Well, that is until she is plagued by those pesky intrusive thoughts of death, a flattening of her perfectly-heeled feet, and a trip to Weird Barbie (Kate McKinnon) to figure out what is going on. As it turns out, a rift has developed between Barbieland and the real world that only Stereotypical Barbie--accompanied by Beach Ken (Ryan Gosling)--can mend. But when Barbie & Ken have extremely different experiences in the real world, it leads to even more messiness between the worlds that precipitates further adventure/hijinks.In terms of plot, somehow Gerwig manages to write and direct her way into the perfect tone with \"Barbie\". A mere mention of the term \"patriarchy\" in today's polarized landscape will more often than not lead to a line in the sand that neither side will cross, yet Gerwig perfectly examines and satirizes the subject by making the proceedings just so darn fun. Much like, say, Jordan Peele before her did with horror flicks like \"Get Out\" or \"Us\", Gerwig uses a genre other than straight-up drama to get her satire and story themes across here. Sometimes, that proves to be the best \"delivery service\" and it is certainly true in this case.Of course, solid/unique actors are required to carry out this quirky film's shenanigans and softer moments, and \"Barbie\" comes up aces in that department too. Robbie is perfectly cast as the lead, with both her beauty and dramatic acting chops lending themselves to the film's own dual nature. But more often than not it is Gosling who steals the show every time he's on screen. To do what Gerwig wants to do with \"Barbie\", the Ken role has to be perfect--and is here in the versatile style of Gosling (one of Hollywood's most underappreciated acting talents). The rest of the cast is also filled with solid performances and wonderfully fun cameos.\"Barbie\" is just as much a visual treat as anything else--they didn't short the area of pink paint for no reason. DP Rodrigo Pieto creates a universe that is a sight to behold in every frame and then transitions some of those characters into a real-world environment with similar panache. All of this is of course given some drive by a killer soundtrack featuring the likes of Lizzo, Dua Lipa, Billie Eilish, and even Gosling himself!Not only do I feel that \"Barbie\" eclipsed (even if narrowly in some cases) the bigger blockbusters like \"The Flash\", \"Mission Impossible: Dead Reckoning 1\", & \"Oppenheimer\", but it subsequently vaulted Gerwig into the upper echelon of my must-see writers/directors (alongside Nolan, Villeneuve, Peele, etc.). After not knowing exactly what to expect from this film going in, I was utterly blown away by this experience.\n",
      "User Rating 19: 6/10\n",
      "\n",
      "\n",
      "User Review 20: I've been excited for this movie for over a year. The casting was perfect and the acting was amazing! The set was next level, the tiny details were all there and even the highest barbie fan couldn't ask for anything more from it. It is PERFECTION.The first half of the movie was really good, a decent plot, plenty of laughs and a decent explanation of what is going on. Unfortunately, after a while it just becomes a rant about feminism & how oppressed women are. I'm a woman myself, and I'm all for equal rights, but the amount they shoved into this movie just overtook the fun completely, it felt very forced and by the end, you were left with the same feeling you get after scrolling through a toxic comment thread on a social media post. So sad.( SPOILERS AHEAD )Even more sad, the end message of the film when the barbies take back barbieland is basically that they are no better than the kens (or 'men') are. They manipulate them, undermine them, and then when given the chance to be better (the kens asking to have one ken presented in the Supreme Court which is all barbies), they laugh and tell them no, choosing to treat the kens or 'men' how they've 'always' treated women. So they are no better than the kens in the end. How sad! Isn't there a world where they can be better? Include the kens and all be equals?? What are we trying to teach young girls? That feminism is demeaning men just like we have been demeaned in the past? Also, I would have hoped we were past making a movie entirely about how 'hard' women have it. Life is hard for most people, men & women alike, and it's easier when we acknowledge that and treat each other like fellow humans instead of two warring species..\n",
      "User Rating 20: 4/10\n",
      "\n",
      "\n",
      "User Review 21: I believe I came to this movie with an open mind. In my opinion a movie balled Barbie needs to be a comedy. And while there were pieces here and there that were funny, for the most part we (and everyone in the theater) only laughed occasionally. The production design and costumes are great. The screenplay is the weakest part. The direction is next weakest. And those two caused a great cast to overact. When this movie takes itself seriously it gets tedious. It's preachy. We are constantly being told what we are seeing and what we should think about what we are thinking. This is not engaging. Why can't we think for ourselves based on what we see? I hated being treated like a ten year old and being spoonfed the morals, thoughts and feelings. But then maybe the target audience is ten-year-olds. In any event, I thought it would never end. By the time they were talking about ordinary Barbie, all I could think was \"Sanctimonious Barbie.\"\n",
      "User Rating 21: 9/10\n",
      "\n",
      "\n",
      "User Review 22: In this day and age with society overall becoming more and more polarized and our leaders around the world doing nothing to improve dialogue, it seems that people became broken records. Now everything in the movies and TV shows is perceived as preachy, not everything is a conspiracy, people need to consider that movies and TV shows at its core, and specially the good ones, are about sharing perspectives and allow the audience, if their minds are opened to it, to acknowledge all sides of the stories.So let's start with the actual review, Greta Gerwig seems to have found an actual legitimate story for the type of message she delivered, contrary to most criticism I didn't find the movie preachy or biased at all, I actually felt it was incredibly balanced and the message made sense considering the plot. Sometimes I do agree that these (for some reason) delicate social topics tend to be pushed into films because a lot of studio directors want to align with trends to make a few more dollars, but in this particular film I didn't felt that at all!It's a fictional story that has the ability to tell a bit of historical context of one of the most (if not the most) famous dolls in the world and how it impacted the world culture and how it actually affected women's image with its controversial decisions.The other aspect of this fictional story is providing perspective, of how women are perceived and treated in our society, the rooted systemic issues we tend to ignore AND with the Barbie plot device provide some fun and interesting analogy of how society would be if it was the other way around and women were the ones holding most power.But again there's no hidden dark meaning, it's just a woman's perspective and if you think about it, even though reality change a lot considering the country where you live, it's not that ridiculous, the story is ultimately about equality and its a fun innocent approach to it.Margot Robbie is insanely talented and its amazing to watch her portray this role, for once I am hoping that we keep the dialogue opened and stop inventing false theories .\n",
      "User Rating 22: 6/10\n",
      "\n",
      "\n",
      "User Review 23: I walked out of the theatre thinking, \"Yeah, I had a good time in that movie\". But as the day went on I kind had that \"Ok, that kebab probably wasn't a good idea.\"The film is stunning in its production design and creativity, and Margot Robbie is perfectly cast as the Stereotypical Barbie. For the most part, the songs are catchy and performances are solid for the type of characters being portraying.When we strip away the outside world and all the messaging, Barbie and Ken have a few poignant moments - Barbie realising she's not as perfect as she's been made to believe, or when Ken receives his first modicum of acknowledgement of being a sentient being he's ever had in his life. They also share a couple learning and growth moments which I thought would pay off at the end of the film.I don't know why, but I was hoping for something that would actually enlighten its audience, to acknowledge that things are a mess and make intentional and meaningful steps to get us closer to understanding and equality. The Barbie brand, history, controversies are so engrained in our culture that this movie had a potential to change our perspective of the world, and what the future could be. That's a lot of pressure for one film, I know.However... this film is absolutely not immune to the not-so-subtle messaging that has permeated all forms of media and entertainment recently. In fact, it embraces is. So much so that you have a scene where a man walks up behind Barbie and slaps her on the backside, in broad daylight, in a crowded space, in front of her boyfriend.... And this kind of portrayal of men in 2023 appears to be how the film views the world.Maybe it was this kind of overt comical depiction of men and the world generally that allowed me to get through the movie and kind of enjoy it, but upon reflection, I realise now it's just kind of... yuck.Barbie had the rare opportunity to be a film experience that not only highlighted issues in the real world, but offer and foster some ideas for change. Instead, we receive divisive and mean-spirited attack on half the human population as well as anyone who thinking having a family is an acceptable path in life. And also flat feet and cellulite.If you kind of switch off your brain for an hour and a bit, and don't take this film too seriously, then maybe you'll have a lasting positive memory after seeing this movie.But if you need to do that to enjoy something, then you need to ask yourself: why?\n",
      "User Rating 23: 3/10\n",
      "\n",
      "\n",
      "User Review 24: Margot Robbie and Ryan Gosling are really great in their roles of Barbie and Kent. Gosling is specially hilarious. I expected a funny, cool, deep and entertaining movie, but I was highly disappointed. The movie is so terribly preachy that ends being an embarrassment. We (the audience) have brains, so, please, preach somewhere else. Furthermore, this is a movie to divide, not to unite. And I'm a woman. The script of the movie is horrendous and the direction is plain bad. There are some great actresses that have too little to say, like Emma Mackey, and that's a pity. Overall: a huge disappointment and a missed opportunity. 3/10 (1 point for Margot Robbie, 1 point for Ryan Gosling, and 1 point for the art direction (super tacky and pinky, as Barbie's world).\n",
      "User Rating 24: 10/10\n",
      "\n",
      "\n",
      "User Review 25: Wow. I did not see this masterpiece coming. And that's not a joke. Somehow, Greta Gerwig took Barbie, and made a movie that tackles some really tough social issues....well? It's crazy. But wow, does it work. The story is very mature, thinker of a plot. Once you're done laughing your butt off, you'll get really emotional. The production design is so on point. The whole movie is pink everything, but it's never polarizing. All the shades melt together in a very pleasing way. And of course the cast! Margot Robbie was born to play Barbie, and she hits a home run, but Ryan Gosling. This dude rocks as Ken. He knocked it all the way around the world and hit himself in the back of the head. He steals every scene he's in, and I would be so on board with a Ken spin-off. America Ferrara and Simu Liu are also great in their respective roles, but the cast overall is just perfect. Overall, Barbie is probably the best movie based off a toy (sorry LEGO Movies) and an overall fantastic time at the movies.\n"
     ]
    },
    {
     "ename": "IndexError",
     "evalue": "list index out of range",
     "output_type": "error",
     "traceback": [
      "\u001b[1;31m---------------------------------------------------------------------------\u001b[0m",
      "\u001b[1;31mIndexError\u001b[0m                                Traceback (most recent call last)",
      "\u001b[1;32mahmedSakka\\Barbie_Analysis\\Barbie_Revies_Analysis.ipynb Cell 5\u001b[0m line \u001b[0;36m4\n\u001b[0;32m      <a href='vscode-notebook-cell://github/ahmedSakka/Barbie_Analysis/Barbie_Revies_Analysis.ipynb#W4sdnNjb2RlLXZmcw%3D%3D?line=1'>2</a>\u001b[0m \u001b[39mfor\u001b[39;00m i \u001b[39min\u001b[39;00m \u001b[39mrange\u001b[39m(\u001b[39m100\u001b[39m):  \u001b[39m# Print the first 5 elements for review and rating\u001b[39;00m\n\u001b[0;32m      <a href='vscode-notebook-cell://github/ahmedSakka/Barbie_Analysis/Barbie_Revies_Analysis.ipynb#W4sdnNjb2RlLXZmcw%3D%3D?line=2'>3</a>\u001b[0m     \u001b[39mprint\u001b[39m(\u001b[39mf\u001b[39m\u001b[39m\"\u001b[39m\u001b[39mUser Review \u001b[39m\u001b[39m{\u001b[39;00mi \u001b[39m+\u001b[39m \u001b[39m1\u001b[39m\u001b[39m}\u001b[39;00m\u001b[39m: \u001b[39m\u001b[39m{\u001b[39;00muser_review[i]\u001b[39m.\u001b[39mtext\u001b[39m.\u001b[39mstrip()\u001b[39m}\u001b[39;00m\u001b[39m\"\u001b[39m)\n\u001b[1;32m----> <a href='vscode-notebook-cell://github/ahmedSakka/Barbie_Analysis/Barbie_Revies_Analysis.ipynb#W4sdnNjb2RlLXZmcw%3D%3D?line=3'>4</a>\u001b[0m     \u001b[39mprint\u001b[39m(\u001b[39mf\u001b[39m\u001b[39m\"\u001b[39m\u001b[39mUser Rating \u001b[39m\u001b[39m{\u001b[39;00mi \u001b[39m+\u001b[39m \u001b[39m1\u001b[39m\u001b[39m}\u001b[39;00m\u001b[39m: \u001b[39m\u001b[39m{\u001b[39;00muser_rating[i]\u001b[39m.\u001b[39mtext\u001b[39m.\u001b[39mstrip()\u001b[39m}\u001b[39;00m\u001b[39m\"\u001b[39m)\n\u001b[0;32m      <a href='vscode-notebook-cell://github/ahmedSakka/Barbie_Analysis/Barbie_Revies_Analysis.ipynb#W4sdnNjb2RlLXZmcw%3D%3D?line=4'>5</a>\u001b[0m     \u001b[39mprint\u001b[39m(\u001b[39m\"\u001b[39m\u001b[39m\\n\u001b[39;00m\u001b[39m\"\u001b[39m)\n",
      "\u001b[1;31mIndexError\u001b[0m: list index out of range"
     ]
    }
   ],
   "source": [
    "# Print the first few user reviews and ratings\n",
    "for i in range(100):  # Print the first 5 elements for review and rating\n",
    "    print(f\"User Review {i + 1}: {user_review[i].text.strip()}\")\n",
    "    print(f\"User Rating {i + 1}: {user_rating[i].text.strip()}\")\n",
    "    print(\"\\n\")  # Add a separator\n"
   ]
  }
 ],
 "metadata": {
  "kernelspec": {
   "display_name": "base",
   "language": "python",
   "name": "python3"
  },
  "language_info": {
   "codemirror_mode": {
    "name": "ipython",
    "version": 3
   },
   "file_extension": ".py",
   "mimetype": "text/x-python",
   "name": "python",
   "nbconvert_exporter": "python",
   "pygments_lexer": "ipython3",
   "version": "3.10.9"
  },
  "orig_nbformat": 4
 },
 "nbformat": 4,
 "nbformat_minor": 2
}
